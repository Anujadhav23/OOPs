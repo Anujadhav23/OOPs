{
 "cells": [
  {
   "cell_type": "markdown",
   "id": "7873556a-cb7c-491c-966b-1479e1c58881",
   "metadata": {},
   "source": [
    "# OOPS ASSIGNMENT "
   ]
  },
  {
   "cell_type": "markdown",
   "id": "c0d43334-10c7-4435-8d5d-5631d70f6ab7",
   "metadata": {},
   "source": [
    "# Q.1) What is Object-Oriented Programming (OOP)?\n",
    "\n",
    "Ans :OOP is a programming paradigm based on the concept of objects, which contain data (attributes) and code (methods). It helps structure code using real-world modeling.\n",
    "Main principles:\n",
    "\n",
    "- Encapsulation\n",
    "\n",
    "- Abstraction\n",
    "\n",
    "- Inheritance\n",
    "\n",
    "- Polymorphism\n",
    "\n"
   ]
  },
  {
   "cell_type": "markdown",
   "id": "3852723b-b9f2-4404-9537-c3b7e223695a",
   "metadata": {},
   "source": [
    "# Q.2) What is a class in OOP?\n",
    "A class is a blueprint for creating objects. It defines attributes and methods that its objects will have."
   ]
  },
  {
   "cell_type": "markdown",
   "id": "e6931ee4-0355-4173-8b8b-6819295dc826",
   "metadata": {},
   "source": [
    "# Q.3) What is an object in OOP?\n",
    "Ans:\n",
    "An object is an instance of a class. It holds actual data and can use the class's methods."
   ]
  },
  {
   "cell_type": "markdown",
   "id": "5047e55a-2be2-49a5-a806-10014dce2037",
   "metadata": {},
   "source": [
    "# Q.4) What is the difference between abstraction and encapsulation?\n",
    "Answer:\n",
    "\n",
    "- Abstraction hides complex details and shows only essential parts to the user.\n",
    "\n",
    "- Encapsulation binds data and methods together and hides data from direct access."
   ]
  },
  {
   "cell_type": "markdown",
   "id": "ac7c2b51-5bb3-45b9-a9ec-fc3e2f59d606",
   "metadata": {},
   "source": [
    "# Q.5) H What are dunder methods in Python?\n",
    "Ans:\n",
    "Dunder methods (short for \"double underscore\") are special methods like __init__, __str__, __len__. They let you customize how objects behave."
   ]
  },
  {
   "cell_type": "code",
   "execution_count": 26,
   "id": "be2ab1b6-e342-463f-8f93-d3f3c57ac47d",
   "metadata": {},
   "outputs": [],
   "source": [
    "#Example\n",
    "def __str__(self):\n",
    "    return f\"Brand: {self.brand}\"\n"
   ]
  },
  {
   "cell_type": "markdown",
   "id": "5010c965-a8ea-4284-8480-9fb80efd3fa4",
   "metadata": {},
   "source": [
    "# Q.6) H Explain the concept of inheritance in OOP?\n",
    "Answer:\n",
    "\n",
    "Inheritance lets one class acquire the properties and methods of another class."
   ]
  },
  {
   "cell_type": "code",
   "execution_count": 30,
   "id": "7797fcad-6572-46b8-836d-a3ad83279435",
   "metadata": {},
   "outputs": [
    {
     "name": "stdout",
     "output_type": "stream",
     "text": [
      "Some sound\n"
     ]
    }
   ],
   "source": [
    "# Example:\n",
    "class Animal:\n",
    "    def sound(self): print(\"Some sound\")\n",
    "\n",
    "class Dog(Animal):\n",
    "    pass\n",
    "\n",
    "d = Dog()\n",
    "d.sound()  # Inherits from Animal\n"
   ]
  },
  {
   "cell_type": "markdown",
   "id": "41842441-d20b-413a-9922-0435aaba9d38",
   "metadata": {},
   "source": [
    "# Q.7)  What is polymorphism in OOP?\n",
    "Answer:\n",
    "\n",
    "Polymorphism means \"many forms\". The same method name can behave differently for different objects."
   ]
  },
  {
   "cell_type": "code",
   "execution_count": 35,
   "id": "c5633b21-9c8c-4762-8254-9423c0775c97",
   "metadata": {},
   "outputs": [
    {
     "name": "stdout",
     "output_type": "stream",
     "text": [
      "Bird flies\n",
      "Plane flies\n"
     ]
    }
   ],
   "source": [
    "class Bird:\n",
    "    def fly(self): print(\"Bird flies\")\n",
    "\n",
    "class Airplane:\n",
    "    def fly(self): print(\"Plane flies\")\n",
    "\n",
    "for obj in (Bird(), Airplane()):\n",
    "    obj.fly()  # Same method, different behavior\n"
   ]
  },
  {
   "cell_type": "markdown",
   "id": "ae612aef-2b00-47dc-bf00-d2cb90f06e5f",
   "metadata": {},
   "source": [
    "# Q.8)  How is encapsulation achieved in Python?\n",
    "Answer:\n",
    "\n",
    "Using private variables (prefixing with _ or __) and getter/setter methods."
   ]
  },
  {
   "cell_type": "code",
   "execution_count": 38,
   "id": "347ac9fd-937d-4b47-9ea2-f13d1122cc9e",
   "metadata": {},
   "outputs": [],
   "source": [
    "class Person:\n",
    "    def __init__(self):\n",
    "        self.__age = 0  # private\n",
    "\n",
    "    def set_age(self, age):\n",
    "        self.__age = age\n",
    "\n",
    "    def get_age(self):\n",
    "        return self.__age\n"
   ]
  },
  {
   "cell_type": "markdown",
   "id": "dc70866b-0375-4960-9eee-ef54c133454b",
   "metadata": {},
   "source": [
    "# Q.9) What is a constructor in Python?\n",
    "Answer:\n",
    "\n",
    "A constructor is a special method called __init__ that runs when an object is created. It initializes the object."
   ]
  },
  {
   "cell_type": "code",
   "execution_count": 43,
   "id": "aabca16c-3e68-4728-8181-7371ecef1c92",
   "metadata": {},
   "outputs": [],
   "source": [
    "class Car:\n",
    "    def __init__(self, brand):\n",
    "        self.brand = brand\n"
   ]
  },
  {
   "cell_type": "markdown",
   "id": "1fda31a3-da0b-4830-a746-27c54e9c403b",
   "metadata": {},
   "source": [
    "# Q.10) What are class and static methods in Python?\n",
    "Answer:\n",
    "\n",
    "- Class method works with class-level data, not instance-level. Defined using @classmethod.\n",
    "\n",
    "- Static method is independent, does not need self or cls. Use @staticmethod."
   ]
  },
  {
   "cell_type": "code",
   "execution_count": 46,
   "id": "78a6c5a4-7315-409f-a5f1-6bdff35f6e9b",
   "metadata": {},
   "outputs": [],
   "source": [
    "class MyClass:\n",
    "    count = 0\n",
    "\n",
    "    @classmethod\n",
    "    def show_count(cls):\n",
    "        return cls.count\n",
    "\n",
    "    @staticmethod\n",
    "    def greet():\n",
    "        print(\"Hello\")\n"
   ]
  },
  {
   "cell_type": "markdown",
   "id": "69a8f162-942e-43b7-812a-18cce4eefe61",
   "metadata": {},
   "source": [
    "# Q.11) What is method overloading in Python?\n",
    "Answer:\n",
    "\n",
    "Python doesn't support true method overloading like Java. But we can simulate it using default arguments."
   ]
  },
  {
   "cell_type": "markdown",
   "id": "37c87089-f934-4e70-866f-5ae832103b4f",
   "metadata": {},
   "source": [
    "def greet(name=None):\n",
    "    if name:\n",
    "        print(\"Hello\", name)\n",
    "    else:\n",
    "        print(\"Hello\")\n"
   ]
  },
  {
   "cell_type": "markdown",
   "id": "7ddfc6a2-5417-4896-9a65-32c8551d8926",
   "metadata": {},
   "source": [
    "# Q.12) What is method overriding in OOP?\n",
    "Answer:\n",
    "\n",
    "When a subclass provides its own version of a method defined in its superclass.\n"
   ]
  },
  {
   "cell_type": "code",
   "execution_count": 56,
   "id": "a6f574cd-5232-4b74-91d6-c36bd0b4da63",
   "metadata": {},
   "outputs": [],
   "source": [
    "class Parent:\n",
    "    def show(self): print(\"Parent\")\n",
    "\n",
    "class Child(Parent):\n",
    "    def show(self): print(\"Child\")  # overrides\n"
   ]
  },
  {
   "cell_type": "markdown",
   "id": "40264938-3fec-405f-8a49-4c0220eb07ac",
   "metadata": {},
   "source": [
    "# Q.13) What is a property decorator in Python?\n",
    "Answer:\n",
    "\n",
    "@property lets you use a method like an attribute."
   ]
  },
  {
   "cell_type": "code",
   "execution_count": 59,
   "id": "7d783aa1-f508-4e81-b081-ab225c6a9690",
   "metadata": {},
   "outputs": [],
   "source": [
    "class Circle:\n",
    "    def __init__(self, radius):\n",
    "        self._radius = radius\n",
    "\n",
    "    @property\n",
    "    def area(self):\n",
    "        return 3.14 * self._radius ** 2\n"
   ]
  },
  {
   "cell_type": "markdown",
   "id": "275dc47f-61ce-40ef-824c-3bc4dfb55b39",
   "metadata": {},
   "source": [
    "# Q.14) Why is polymorphism important in OOP?\n",
    "Answer:\n",
    "\n",
    "It allows writing flexible and reusable code, especially for functions that work on different classes with the same method names."
   ]
  },
  {
   "cell_type": "markdown",
   "id": "58fbbd95-f91e-4690-9f14-4156ef52efdb",
   "metadata": {},
   "source": [
    "# Q.15) What is an abstract class in Python?\n",
    "Answer:\n",
    "\n",
    "An abstract class cannot be instantiated. It defines abstract methods which must be implemented in derived classes. Use abc module."
   ]
  },
  {
   "cell_type": "code",
   "execution_count": 64,
   "id": "dc6febb6-94ff-49e0-bb14-ad644b7bf6b4",
   "metadata": {},
   "outputs": [],
   "source": [
    "from abc import ABC, abstractmethod\n",
    "\n",
    "class Shape(ABC):\n",
    "    @abstractmethod\n",
    "    def area(self):\n",
    "        pass\n"
   ]
  },
  {
   "cell_type": "markdown",
   "id": "154c7c81-5a5d-4f5e-bc7b-92261be63547",
   "metadata": {},
   "source": [
    "# Q.16) What are the advantages of OOP?\n",
    "Answer:\n",
    "\n",
    "- Code reusability (via inheritance)\n",
    "\n",
    "- Easier maintenance\n",
    "\n",
    "- Better organization of complex programs\n",
    "\n",
    "- Enhanced security through encapsulation\n",
    "\n",
    "- Real-world modeling"
   ]
  },
  {
   "cell_type": "markdown",
   "id": "97275088-6d14-4570-af91-752c3096792e",
   "metadata": {},
   "source": [
    "# Q.17) What is the difference between a class variable and an instance variable?\n",
    "Answer:\n",
    "\n",
    "- Class variable: Shared by all objects of the class\n",
    "\n",
    "- Instance variable: Unique to each object"
   ]
  },
  {
   "cell_type": "code",
   "execution_count": 72,
   "id": "90a3251d-4680-4992-86c8-f0ab6d9072f5",
   "metadata": {},
   "outputs": [],
   "source": [
    "class Student:\n",
    "    school = \"ABC\"  # class variable\n",
    "\n",
    "    def __init__(self, name):\n",
    "        self.name = name  # instance variable\n"
   ]
  },
  {
   "cell_type": "markdown",
   "id": "0886fdc4-b6f4-4e39-b395-80e0f8b330a9",
   "metadata": {},
   "source": [
    "# Q.18) H What is multiple inheritance in Python?\n",
    "Answer:\n",
    "\n",
    "When a class inherits from more than one parent class.\n"
   ]
  },
  {
   "cell_type": "code",
   "execution_count": 77,
   "id": "37e71984-28ae-4fc8-912f-8462c865eae6",
   "metadata": {},
   "outputs": [],
   "source": [
    "class A: pass  \n",
    "class B: pass  \n",
    "class C(A, B): pass  # multiple inheritance\n"
   ]
  },
  {
   "cell_type": "markdown",
   "id": "7ace782f-d2ef-4be0-9782-9563ee3ddf59",
   "metadata": {},
   "source": [
    "# Q.19)  Explain the purpose of ‘’__str__’ and ‘__repr__’ ‘ methods in Python?\n",
    "Answer:\n",
    "\n",
    "- __str__: Used by print() for readable output\n",
    "\n",
    "- __repr__: Developer-friendly, for debugging"
   ]
  },
  {
   "cell_type": "code",
   "execution_count": 82,
   "id": "e89bcfb1-4324-4f48-be59-6cfd2a8c57a6",
   "metadata": {},
   "outputs": [],
   "source": [
    "def __str__(self): return \"User-friendly\"\n",
    "def __repr__(self): return \"Debug-friendly\"\n"
   ]
  },
  {
   "cell_type": "markdown",
   "id": "d91d775c-c9e8-4408-8125-c3f9862ef082",
   "metadata": {},
   "source": [
    "# Q.20) What is the significance of the ‘super()’ function in Python?\n",
    "Answer:\n",
    "\n",
    "super() allows calling methods of the parent class inside a child class.\n",
    "\n"
   ]
  },
  {
   "cell_type": "code",
   "execution_count": 87,
   "id": "d1ad7b75-1e09-47d8-9542-d1f55ec93c55",
   "metadata": {},
   "outputs": [],
   "source": [
    "class Child(Parent):\n",
    "    def __init__(self):\n",
    "        super().__init__()\n"
   ]
  },
  {
   "cell_type": "markdown",
   "id": "de2aff75-1467-47a3-9ce2-36504031dbc0",
   "metadata": {},
   "source": [
    "# Q.21) What is the significance of the __del__ method in Python?\n",
    "Answer:\n",
    "\n",
    "__del__ is a destructor method, called when an object is about to be deleted or destroyed."
   ]
  },
  {
   "cell_type": "code",
   "execution_count": 92,
   "id": "c16f40cb-ca09-4aa3-ab16-ad0652cdf78c",
   "metadata": {},
   "outputs": [],
   "source": [
    "def __del__(self):\n",
    "    print(\"Object deleted\")\n"
   ]
  },
  {
   "cell_type": "markdown",
   "id": "b2e418d8-fa0a-444c-aa4e-25662bbfcef2",
   "metadata": {},
   "source": [
    "# Q.22) What is the difference between @staticmethod and @classmethod in Python?\n",
    "Answer:\n",
    "\n",
    "- @staticmethod: Doesn’t take self or cls.\n",
    "\n",
    "- @classmethod: Takes cls and can access/modify class variables."
   ]
  },
  {
   "cell_type": "markdown",
   "id": "9ac5da58-9fce-4ff8-ab28-b37bd8b6be66",
   "metadata": {},
   "source": [
    "# Q.23) How does polymorphism work in Python with inheritance?\n",
    "Answer:\n",
    "\n",
    "A child class can override a method of its parent, and you can use the same method name for different types."
   ]
  },
  {
   "cell_type": "code",
   "execution_count": 102,
   "id": "72259538-3bbb-44c9-a84a-6a0c298ef2e2",
   "metadata": {},
   "outputs": [
    {
     "name": "stdout",
     "output_type": "stream",
     "text": [
      "Bark\n"
     ]
    }
   ],
   "source": [
    "class Animal:\n",
    "    def sound(self): print(\"Animal sound\")\n",
    "\n",
    "class Dog(Animal):\n",
    "    def sound(self): print(\"Bark\")\n",
    "\n",
    "def play_sound(animal):\n",
    "    animal.sound()\n",
    "\n",
    "play_sound(Dog())\n"
   ]
  },
  {
   "cell_type": "markdown",
   "id": "57c7005c-c176-4255-951c-5f3b03d8fcd4",
   "metadata": {},
   "source": [
    "# Q.24) What is method chaining in Python OOP?\n",
    "Answer:\n",
    "\n",
    "It means calling multiple methods on the same object in a single line."
   ]
  },
  {
   "cell_type": "code",
   "execution_count": 105,
   "id": "0854b350-1634-464c-9665-cdfc5b4820fb",
   "metadata": {},
   "outputs": [
    {
     "name": "stdout",
     "output_type": "stream",
     "text": [
      "a\n",
      "b\n"
     ]
    },
    {
     "data": {
      "text/plain": [
       "<__main__.Demo at 0x234bdf2ab40>"
      ]
     },
     "execution_count": 105,
     "metadata": {},
     "output_type": "execute_result"
    }
   ],
   "source": [
    "class Demo:\n",
    "    def a(self): print(\"a\"); return self\n",
    "    def b(self): print(\"b\"); return self\n",
    "\n",
    "Demo().a().b()  # method chaining\n"
   ]
  },
  {
   "cell_type": "markdown",
   "id": "8745f1bb-b076-4e05-994b-e4af8f5eacba",
   "metadata": {},
   "source": [
    "# Q.25)  What is the purpose of the __call__ method in Python?\n",
    "Answer:\n",
    "\n",
    "__call__ makes an object callable like a function"
   ]
  },
  {
   "cell_type": "code",
   "execution_count": 108,
   "id": "0df97944-a3f3-447f-a329-28547847349a",
   "metadata": {},
   "outputs": [
    {
     "name": "stdout",
     "output_type": "stream",
     "text": [
      "Object called like a function\n"
     ]
    }
   ],
   "source": [
    "class MyClass:\n",
    "    def __call__(self):\n",
    "        print(\"Object called like a function\")\n",
    "\n",
    "obj = MyClass()\n",
    "obj()  # calls __call__\n"
   ]
  },
  {
   "cell_type": "markdown",
   "id": "b4cd8002-f025-4326-ad56-4aee7ec7b624",
   "metadata": {},
   "source": [
    "# PRACTICAL QUESTIONS"
   ]
  },
  {
   "cell_type": "markdown",
   "id": "52f1648d-3dbf-4b63-ac07-46ff51af367b",
   "metadata": {},
   "source": [
    "# Q.1) Create a parent class Animal with a method speak() that prints a generic message. Create a child class Dog that overrides the speak() method to print \"Bark!\"?"
   ]
  },
  {
   "cell_type": "code",
   "execution_count": 115,
   "id": "7bd1f775-92cd-4e2e-bfd3-a9f12b2cae65",
   "metadata": {},
   "outputs": [
    {
     "name": "stdout",
     "output_type": "stream",
     "text": [
      "Animal makes a sound.\n",
      "Bark!\n"
     ]
    }
   ],
   "source": [
    "# Question 1\n",
    "class Animal:\n",
    "    def speak(self):\n",
    "        print(\"Animal makes a sound.\")\n",
    "\n",
    "class Dog(Animal):\n",
    "    def speak(self):\n",
    "        print(\"Bark!\")  # Overrides the parent method\n",
    "\n",
    "# Demonstration:\n",
    "if __name__ == \"__main__\":\n",
    "    a = Animal()\n",
    "    a.speak()  # Output: Animal makes a sound.\n",
    "\n",
    "    d = Dog()\n",
    "    d.speak()  # Output: Bark!\n"
   ]
  },
  {
   "cell_type": "markdown",
   "id": "1da033bb-a73a-4bbb-a5a4-8d1b4da0a946",
   "metadata": {},
   "source": [
    "# Q.2) Write a program to create an abstract class Shape with a method area(). Derive classes Circle and Rectangle from it and implement the area() method in both."
   ]
  },
  {
   "cell_type": "code",
   "execution_count": 118,
   "id": "74e45616-c891-4173-a1a2-1e999b74bcf6",
   "metadata": {},
   "outputs": [
    {
     "name": "stdout",
     "output_type": "stream",
     "text": [
      "Circle area: 78.54\n",
      "Rectangle area: 28\n"
     ]
    }
   ],
   "source": [
    "# Question 2\n",
    "from abc import ABC, abstractmethod\n",
    "import math\n",
    "\n",
    "class Shape(ABC):\n",
    "    @abstractmethod\n",
    "    def area(self):\n",
    "        pass\n",
    "\n",
    "class Circle(Shape):\n",
    "    def __init__(self, radius):\n",
    "        self.radius = radius\n",
    "\n",
    "    def area(self):\n",
    "        return math.pi * (self.radius ** 2)\n",
    "\n",
    "class Rectangle(Shape):\n",
    "    def __init__(self, width, height):\n",
    "        self.width = width\n",
    "        self.height = height\n",
    "\n",
    "    def area(self):\n",
    "        return self.width * self.height\n",
    "\n",
    "# Demonstration:\n",
    "if __name__ == \"__main__\":\n",
    "    c = Circle(radius=5)\n",
    "    print(f\"Circle area: {c.area():.2f}\")  # Output: Circle area: 78.54\n",
    "\n",
    "    r = Rectangle(width=4, height=7)\n",
    "    print(f\"Rectangle area: {r.area()}\")   # Output: Rectangle area: 28\n"
   ]
  },
  {
   "cell_type": "markdown",
   "id": "8dd2a5a4-216d-4173-a90f-e2d8e0c233ef",
   "metadata": {},
   "source": [
    "# Q.3)  Implement a multi-level inheritance scenario where a class Vehicle has an attribute type. Derive a class Car and further derive a class ElectricCar that adds a battery attribute."
   ]
  },
  {
   "cell_type": "code",
   "execution_count": 122,
   "id": "0c6d0f11-e416-41d9-8433-931736d7ddec",
   "metadata": {},
   "outputs": [
    {
     "name": "stdout",
     "output_type": "stream",
     "text": [
      "Vehicle type: Electric\n",
      "Car model: Tesla Model 3\n",
      "Battery capacity: 75 kWh\n"
     ]
    }
   ],
   "source": [
    "# Question 3\n",
    "class Vehicle:\n",
    "    def __init__(self, vehicle_type):\n",
    "        self.vehicle_type = vehicle_type\n",
    "\n",
    "    def show_type(self):\n",
    "        print(f\"Vehicle type: {self.vehicle_type}\")\n",
    "\n",
    "class Car(Vehicle):\n",
    "    def __init__(self, vehicle_type, model):\n",
    "        super().__init__(vehicle_type)\n",
    "        self.model = model\n",
    "\n",
    "    def show_model(self):\n",
    "        print(f\"Car model: {self.model}\")\n",
    "\n",
    "class ElectricCar(Car):\n",
    "    def __init__(self, vehicle_type, model, battery_capacity):\n",
    "        super().__init__(vehicle_type, model)\n",
    "        self.battery_capacity = battery_capacity\n",
    "\n",
    "    def show_battery(self):\n",
    "        print(f\"Battery capacity: {self.battery_capacity} kWh\")\n",
    "\n",
    "# Demonstration:\n",
    "if __name__ == \"__main__\":\n",
    "    ec = ElectricCar(vehicle_type=\"Electric\", model=\"Tesla Model 3\", battery_capacity=75)\n",
    "    ec.show_type()      # Output: Vehicle type: Electric\n",
    "    ec.show_model()     # Output: Car model: Tesla Model 3\n",
    "    ec.show_battery()   # Output: Battery capacity: 75 kWh\n"
   ]
  },
  {
   "cell_type": "markdown",
   "id": "526d2218-04d9-4d37-9344-fde0a65d2004",
   "metadata": {},
   "source": [
    "# Q.4)  Demonstrate polymorphism by creating a base class Bird with a method fly(). Create two derived classes \"Sparrow and Penguin that override the fly() method.\n"
   ]
  },
  {
   "cell_type": "code",
   "execution_count": 125,
   "id": "b0394b5e-61c8-4723-bda3-c6c5b7e3424b",
   "metadata": {},
   "outputs": [
    {
     "name": "stdout",
     "output_type": "stream",
     "text": [
      "Sparrow flies high.\n",
      "Penguin cannot fly, but it can swim.\n",
      "Bird is flying.\n"
     ]
    }
   ],
   "source": [
    "# Question 4\n",
    "class Bird:\n",
    "    def fly(self):\n",
    "        print(\"Bird is flying.\")\n",
    "\n",
    "class Sparrow(Bird):\n",
    "    def fly(self):\n",
    "        print(\"Sparrow flies high.\")\n",
    "\n",
    "class Penguin(Bird):\n",
    "    def fly(self):\n",
    "        # Penguins can’t truly fly; override for demonstration\n",
    "        print(\"Penguin cannot fly, but it can swim.\")\n",
    "\n",
    "# Demonstration:\n",
    "if __name__ == \"__main__\":\n",
    "    birds = [Sparrow(), Penguin(), Bird()]\n",
    "    for b in birds:\n",
    "        b.fly()\n",
    "        # Output:\n",
    "        # Sparrow flies high.\n",
    "        # Penguin cannot fly, but it can swim.\n",
    "        # Bird is flying.\n"
   ]
  },
  {
   "cell_type": "markdown",
   "id": "18825fb2-06ce-47ea-8c86-e01e9d544af7",
   "metadata": {},
   "source": [
    "# Q.5)  Write a program to demonstrate encapsulation by creating a class BankAccount with private attributes balance and methods to deposit, withdraw, and check balance."
   ]
  },
  {
   "cell_type": "markdown",
   "id": "150bf41d-4f0f-4654-85e4-2080e3f23b37",
   "metadata": {},
   "source": [
    "# Question 5\n",
    "class BankAccount:\n",
    "    def __init__(self, initial_balance=0):\n",
    "        self.__balance = initial_balance  # Private attribute\n",
    "\n",
    "    def deposit(self, amount):\n",
    "        if amount > 0:\n",
    "            self.__balance += amount\n",
    "            print(f\"Deposited: {amount}. New balance: {self.__balance}.\")\n",
    "        else:\n",
    "            print(\"Deposit amount must be positive.\")\n",
    "\n",
    "    def withdraw(self, amount):\n",
    "        if amount <= 0:\n",
    "            print(\"Withdrawal amount must be positive.\")\n",
    "        elif amount > self.__balance:\n",
    "            print(\"Insufficient funds.\")\n",
    "        else:\n",
    "            self.__balance -= amount\n",
    "            print(f\"Withdrew: {amount}. New balance: {self.__balance}.\")\n",
    "\n",
    "    def get_balance(self):\n",
    "        print(f\"Current balance: {self.__balance}.\")\n",
    "        return self.__balance\n",
    "\n",
    "# Demonstration:\n",
    "if __name__ == \"__main__\":\n",
    "    acct = BankAccount(100)\n",
    "    acct.get_balance()   # Output: Current balance: 100.\n",
    "    acct.deposit(50)     # Output: Deposited: 50. New balance: 150.\n",
    "    acct.withdraw(30)    # Output: Withdrew: 30. New balance: 120.\n",
    "    acct.withdraw(200)   # Output: Insufficient funds.\n"
   ]
  },
  {
   "cell_type": "markdown",
   "id": "ec5c4413-308f-4209-a5f2-7515250d57ad",
   "metadata": {},
   "source": [
    "# Q.6) Demonstrate runtime polymorphism using a method play() in a base class Instrument. Derive classes Guitar and Piano that implement their own version of play()."
   ]
  },
  {
   "cell_type": "code",
   "execution_count": 131,
   "id": "b8caf174-530a-4b53-bb0f-02e7909e3c4d",
   "metadata": {},
   "outputs": [
    {
     "name": "stdout",
     "output_type": "stream",
     "text": [
      "Strumming the guitar.\n",
      "Playing the piano.\n",
      "Instrument is playing.\n"
     ]
    }
   ],
   "source": [
    "# Question 6\n",
    "class Instrument:\n",
    "    def play(self):\n",
    "        print(\"Instrument is playing.\")\n",
    "\n",
    "class Guitar(Instrument):\n",
    "    def play(self):\n",
    "        print(\"Strumming the guitar.\")\n",
    "\n",
    "class Piano(Instrument):\n",
    "    def play(self):\n",
    "        print(\"Playing the piano.\")\n",
    "\n",
    "# Demonstration:\n",
    "if __name__ == \"__main__\":\n",
    "    instruments = [Guitar(), Piano(), Instrument()]\n",
    "    for inst in instruments:\n",
    "        inst.play()\n",
    "        # Output:\n",
    "        # Strumming the guitar.\n",
    "        # Playing the piano.\n",
    "        # Instrument is playing.\n"
   ]
  },
  {
   "cell_type": "markdown",
   "id": "662e919f-50bd-40d9-9aea-e0f7164e8ca8",
   "metadata": {},
   "source": [
    "# Q.7) Create a class MathOperations with a class method add_numbers() to add two numbers and a static method subtract_numbers() to subtract two numbers."
   ]
  },
  {
   "cell_type": "code",
   "execution_count": 134,
   "id": "f603a332-e641-48d5-b2c5-1c388f256174",
   "metadata": {},
   "outputs": [
    {
     "name": "stdout",
     "output_type": "stream",
     "text": [
      "Sum: 15\n",
      "Difference: 5\n"
     ]
    }
   ],
   "source": [
    "# Question 7\n",
    "class MathOperations:\n",
    "    @classmethod\n",
    "    def add_numbers(cls, a, b):\n",
    "        return a + b\n",
    "\n",
    "    @staticmethod\n",
    "    def subtract_numbers(a, b):\n",
    "        return a - b\n",
    "\n",
    "# Demonstration:\n",
    "if __name__ == \"__main__\":\n",
    "    sum_result = MathOperations.add_numbers(10, 5)\n",
    "    diff_result = MathOperations.subtract_numbers(10, 5)\n",
    "    print(f\"Sum: {sum_result}\")       # Output: Sum: 15\n",
    "    print(f\"Difference: {diff_result}\")  # Output: Difference: 5\n"
   ]
  },
  {
   "cell_type": "markdown",
   "id": "150770a3-2989-4cff-89a2-7d6d2927f687",
   "metadata": {},
   "source": [
    "# Q.8)  Implement a class Person with a class method to count the total number of persons created."
   ]
  },
  {
   "cell_type": "code",
   "execution_count": 137,
   "id": "408843fc-61ca-4e3a-be9b-b92e07ce80d7",
   "metadata": {},
   "outputs": [
    {
     "name": "stdout",
     "output_type": "stream",
     "text": [
      "Total Persons created: 2\n"
     ]
    }
   ],
   "source": [
    "# Question 8\n",
    "class Person:\n",
    "    _person_count = 0  # Class variable\n",
    "\n",
    "    def __init__(self, name):\n",
    "        self.name = name\n",
    "        Person._person_count += 1\n",
    "\n",
    "    @classmethod\n",
    "    def get_person_count(cls):\n",
    "        return cls._person_count\n",
    "\n",
    "# Demonstration:\n",
    "if __name__ == \"__main__\":\n",
    "    p1 = Person(\"Alice\")\n",
    "    p2 = Person(\"Bob\")\n",
    "    print(f\"Total Persons created: {Person.get_person_count()}\")  # Output: Total Persons created: 2\n"
   ]
  },
  {
   "cell_type": "markdown",
   "id": "1d70c6fd-e449-4e1b-a256-2c5f1629c7c1",
   "metadata": {},
   "source": [
    "# Q.9) Write a class Fraction with attributes numerator and denominator. Override the str method to display the fraction as \"numerator/denominator\"."
   ]
  },
  {
   "cell_type": "code",
   "execution_count": 140,
   "id": "f85c1509-55ba-4de2-93c5-b553f04df1e6",
   "metadata": {},
   "outputs": [
    {
     "name": "stdout",
     "output_type": "stream",
     "text": [
      "3/4\n"
     ]
    }
   ],
   "source": [
    "# Question 9\n",
    "class Fraction:\n",
    "    def __init__(self, numerator, denominator):\n",
    "        self.numerator = numerator\n",
    "        self.denominator = denominator\n",
    "\n",
    "    def __str__(self):\n",
    "        return f\"{self.numerator}/{self.denominator}\"\n",
    "\n",
    "# Demonstration:\n",
    "if __name__ == \"__main__\":\n",
    "    f = Fraction(3, 4)\n",
    "    print(f)  # Output: 3/4\n"
   ]
  },
  {
   "cell_type": "markdown",
   "id": "8693e68b-dd90-42dc-9a01-83edf252a4f8",
   "metadata": {},
   "source": [
    "# Q.10)  Demonstrate operator overloading by creating a class Vector and overriding the add method to add two vectors."
   ]
  },
  {
   "cell_type": "code",
   "execution_count": 143,
   "id": "dee69f38-6ff2-40c3-94dc-2923b3661118",
   "metadata": {},
   "outputs": [
    {
     "name": "stdout",
     "output_type": "stream",
     "text": [
      "Vector(6, 4)\n"
     ]
    }
   ],
   "source": [
    "# Question 10\n",
    "class Vector:\n",
    "    def __init__(self, x, y):\n",
    "        self.x = x\n",
    "        self.y = y\n",
    "\n",
    "    def __add__(self, other):\n",
    "        if not isinstance(other, Vector):\n",
    "            return NotImplemented\n",
    "        return Vector(self.x + other.x, self.y + other.y)\n",
    "\n",
    "    def __str__(self):\n",
    "        return f\"Vector({self.x}, {self.y})\"\n",
    "\n",
    "# Demonstration:\n",
    "if __name__ == \"__main__\":\n",
    "    v1 = Vector(2, 3)\n",
    "    v2 = Vector(4, 1)\n",
    "    v3 = v1 + v2\n",
    "    print(v3)  # Output: Vector(6, 4)\n"
   ]
  },
  {
   "cell_type": "markdown",
   "id": "644cee27-a78c-4349-bc98-9a3daf61f0a0",
   "metadata": {},
   "source": [
    "# Q.11)Create a class Person with attributes name and age. Add a method greet() that prints \"Hello, my name is {name} and I am {age} years old.\""
   ]
  },
  {
   "cell_type": "code",
   "execution_count": 146,
   "id": "e37060b3-dcf6-497f-90e5-bd172c70b750",
   "metadata": {},
   "outputs": [
    {
     "name": "stdout",
     "output_type": "stream",
     "text": [
      "Hello, my name is Charlie and I am 25 years old.\n"
     ]
    }
   ],
   "source": [
    "# Question 11\n",
    "class Person:\n",
    "    def __init__(self, name, age):\n",
    "        self.name = name\n",
    "        self.age = age\n",
    "\n",
    "    def greet(self):\n",
    "        print(f\"Hello, my name is {self.name} and I am {self.age} years old.\")\n",
    "\n",
    "# Demonstration:\n",
    "if __name__ == \"__main__\":\n",
    "    p = Person(\"Charlie\", 25)\n",
    "    p.greet()  # Output: Hello, my name is Charlie and I am 25 years old.\n"
   ]
  },
  {
   "cell_type": "markdown",
   "id": "d2017ece-1cec-427c-9f88-cdd2f21c5163",
   "metadata": {},
   "source": [
    "# Q.12) Implement a class Student with attributes name and grades. Create a method average_grade() to compute the average of the grades"
   ]
  },
  {
   "cell_type": "code",
   "execution_count": 149,
   "id": "a31f0c83-417a-476c-addf-23addc6e3c6e",
   "metadata": {},
   "outputs": [
    {
     "name": "stdout",
     "output_type": "stream",
     "text": [
      "Diana's average grade: 86.25\n"
     ]
    }
   ],
   "source": [
    "# Question 12\n",
    "class Student:\n",
    "    def __init__(self, name, grades):\n",
    "        self.name = name\n",
    "        self.grades = grades  # Expecting a list of numeric grades\n",
    "\n",
    "    def average_grade(self):\n",
    "        if not self.grades:\n",
    "            return 0\n",
    "        return sum(self.grades) / len(self.grades)\n",
    "\n",
    "# Demonstration:\n",
    "if __name__ == \"__main__\":\n",
    "    s = Student(\"Diana\", [85, 90, 78, 92])\n",
    "    print(f\"{s.name}'s average grade: {s.average_grade():.2f}\")  # Output: Diana's average grade: 86.25\n"
   ]
  },
  {
   "cell_type": "markdown",
   "id": "be64c8e8-be2e-4cde-8879-a2b92ce6c3d4",
   "metadata": {},
   "source": [
    "# Q.13)  Create a class Rectangle with methods set_dimensions() to set the dimensions and area() to calculate the area."
   ]
  },
  {
   "cell_type": "code",
   "execution_count": 156,
   "id": "111b314f-a4ae-45fb-8975-45105cf7e8d8",
   "metadata": {},
   "outputs": [
    {
     "name": "stdout",
     "output_type": "stream",
     "text": [
      "Rectangle area: 40\n"
     ]
    }
   ],
   "source": [
    "# Question 13\n",
    "class Rectangle:\n",
    "    def __init__(self):\n",
    "        self.width = 0\n",
    "        self.height = 0\n",
    "\n",
    "    def set_dimensions(self, width, height):\n",
    "        self.width = width\n",
    "        self.height = height\n",
    "\n",
    "    def area(self):\n",
    "        return self.width * self.height\n",
    "\n",
    "# Demonstration:\n",
    "if __name__ == \"__main__\":\n",
    "    rect = Rectangle()\n",
    "    rect.set_dimensions(5, 8)\n",
    "    print(f\"Rectangle area: {rect.area()}\")  # Output: Rectangle area: 40\n"
   ]
  },
  {
   "cell_type": "markdown",
   "id": "9ea8df7a-f2de-47b6-9bcd-2312373052ae",
   "metadata": {},
   "source": [
    "# Q.14)  Create a class Employee with a method calculate_salary() that computes the salary based on hours worked and hourly rate. Create a derived class Manager that adds a bonus to the salary"
   ]
  },
  {
   "cell_type": "code",
   "execution_count": 159,
   "id": "594b78af-8bd0-42bf-9d53-1ca7afd9308c",
   "metadata": {},
   "outputs": [
    {
     "name": "stdout",
     "output_type": "stream",
     "text": [
      "Eve's salary: 3200\n",
      "Frank's salary: 4200\n"
     ]
    }
   ],
   "source": [
    "# Question 14\n",
    "class Employee:\n",
    "    def __init__(self, name, hours_worked, hourly_rate):\n",
    "        self.name = name\n",
    "        self.hours_worked = hours_worked\n",
    "        self.hourly_rate = hourly_rate\n",
    "\n",
    "    def calculate_salary(self):\n",
    "        return self.hours_worked * self.hourly_rate\n",
    "\n",
    "class Manager(Employee):\n",
    "    def __init__(self, name, hours_worked, hourly_rate, bonus):\n",
    "        super().__init__(name, hours_worked, hourly_rate)\n",
    "        self.bonus = bonus\n",
    "\n",
    "    def calculate_salary(self):\n",
    "        base_salary = super().calculate_salary()\n",
    "        return base_salary + self.bonus\n",
    "\n",
    "# Demonstration:\n",
    "if __name__ == \"__main__\":\n",
    "    e = Employee(\"Eve\", hours_worked=160, hourly_rate=20)\n",
    "    m = Manager(\"Frank\", hours_worked=160, hourly_rate=20, bonus=1000)\n",
    "    print(f\"{e.name}'s salary: {e.calculate_salary()}\")  # Output: Eve's salary: 3200\n",
    "    print(f\"{m.name}'s salary: {m.calculate_salary()}\")  # Output: Frank's salary: 4200\n"
   ]
  },
  {
   "cell_type": "markdown",
   "id": "55750cbb-2eb1-42bd-b442-198a47d50542",
   "metadata": {},
   "source": [
    "# Q.15)  Create a class Product with attributes name, price, and quantity. Implement a method total_price() thatcalculates the total price of the product."
   ]
  },
  {
   "cell_type": "code",
   "execution_count": 162,
   "id": "a7f8fa2b-ec9a-4fcf-920d-07206656822c",
   "metadata": {},
   "outputs": [
    {
     "name": "stdout",
     "output_type": "stream",
     "text": [
      "Total price for 2 Laptop(s): 100000\n"
     ]
    }
   ],
   "source": [
    "# Question 15\n",
    "class Product:\n",
    "    def __init__(self, name, price, quantity):\n",
    "        self.name = name\n",
    "        self.price = price\n",
    "        self.quantity = quantity\n",
    "\n",
    "    def total_price(self):\n",
    "        return self.price * self.quantity\n",
    "\n",
    "# Demonstration:\n",
    "if __name__ == \"__main__\":\n",
    "    p = Product(\"Laptop\", price=50000, quantity=2)\n",
    "    print(f\"Total price for {p.quantity} {p.name}(s): {p.total_price()}\")  \n",
    "    # Output: Total price for 2 Laptop(s): 100000\n"
   ]
  },
  {
   "cell_type": "markdown",
   "id": "5f83f0f4-3f40-4305-b118-3dd8b4b8bce7",
   "metadata": {},
   "source": [
    "# Q.16) Create a class Animal with an abstract method sound(). Create two derived classes Cow and Sheep tha implement the sound() method."
   ]
  },
  {
   "cell_type": "code",
   "execution_count": 165,
   "id": "86a22c96-5feb-45f1-919d-eba2c7412ece",
   "metadata": {},
   "outputs": [
    {
     "name": "stdout",
     "output_type": "stream",
     "text": [
      "Moo\n",
      "Baa\n"
     ]
    }
   ],
   "source": [
    "# Question 16\n",
    "from abc import ABC, abstractmethod\n",
    "\n",
    "class Animal(ABC):\n",
    "    @abstractmethod\n",
    "    def sound(self):\n",
    "        pass\n",
    "\n",
    "class Cow(Animal):\n",
    "    def sound(self):\n",
    "        print(\"Moo\")\n",
    "\n",
    "class Sheep(Animal):\n",
    "    def sound(self):\n",
    "        print(\"Baa\")\n",
    "\n",
    "# Demonstration:\n",
    "if __name__ == \"__main__\":\n",
    "    cow = Cow()\n",
    "    sheep = Sheep()\n",
    "    cow.sound()    # Output: Moo\n",
    "    sheep.sound()  # Output: Baa\n"
   ]
  },
  {
   "cell_type": "markdown",
   "id": "1626d975-eb7b-452f-9d56-48127097cc8f",
   "metadata": {},
   "source": [
    "# Q.17) Create a class Book with attributes title, author, and year_published. Add a method get_book_info() that returns a formatted string with the book's details."
   ]
  },
  {
   "cell_type": "code",
   "execution_count": 174,
   "id": "4e7d7fbd-9a31-467c-90f9-6aa3296ebfe4",
   "metadata": {},
   "outputs": [
    {
     "name": "stdout",
     "output_type": "stream",
     "text": [
      "'1984' by George Orwell, published in 1949\n"
     ]
    }
   ],
   "source": [
    "# Question 17\n",
    "class Book:\n",
    "    def __init__(self, title, author, year_published):\n",
    "        self.title = title\n",
    "        self.author = author\n",
    "        self.year_published = year_published\n",
    "\n",
    "    def get_book_info(self):\n",
    "        return f\"'{self.title}' by {self.author}, published in {self.year_published}\"\n",
    "\n",
    "# Demonstration:\n",
    "if __name__ == \"__main__\":\n",
    "    b = Book(\"1984\", \"George Orwell\", 1949)\n",
    "    print(b.get_book_info())  \n",
    "    # Output: '1984' by George Orwell, published in 1949\n"
   ]
  },
  {
   "cell_type": "code",
   "execution_count": null,
   "id": "cae1629d-690e-40d0-9e67-cb713414c57d",
   "metadata": {},
   "outputs": [],
   "source": []
  },
  {
   "cell_type": "markdown",
   "id": "9d328f93-62c2-4b51-a05c-a38a349b6e1d",
   "metadata": {},
   "source": [
    "# Q.18)  Create a class House with attributes address and price. Create a derived class Mansion that adds an attribute number_of_rooms."
   ]
  },
  {
   "cell_type": "code",
   "execution_count": 172,
   "id": "99c63265-8879-43c9-bcdd-bd4d6f7553cb",
   "metadata": {},
   "outputs": [
    {
     "name": "stdout",
     "output_type": "stream",
     "text": [
      "Address: 123 Maple St., Price: 100000\n",
      "---\n",
      "Address: 456 Oak Ave., Price: 750000\n",
      "Number of rooms: 8\n"
     ]
    }
   ],
   "source": [
    "# Question 18\n",
    "class House:\n",
    "    def __init__(self, address, price):\n",
    "        self.address = address\n",
    "        self.price = price\n",
    "\n",
    "    def show_info(self):\n",
    "        print(f\"Address: {self.address}, Price: {self.price}\")\n",
    "\n",
    "class Mansion(House):\n",
    "    def __init__(self, address, price, number_of_rooms):\n",
    "        super().__init__(address, price)\n",
    "        self.number_of_rooms = number_of_rooms\n",
    "\n",
    "    def show_info(self):\n",
    "        super().show_info()\n",
    "        print(f\"Number of rooms: {self.number_of_rooms}\")\n",
    "\n",
    "# Demonstration:\n",
    "if __name__ == \"__main__\":\n",
    "    h = House(\"123 Maple St.\", 100000)\n",
    "    m = Mansion(\"456 Oak Ave.\", 750000, number_of_rooms=8)\n",
    "    h.show_info()\n",
    "    # Output: Address: 123 Maple St., Price: 100000\n",
    "    print(\"---\")\n",
    "    m.show_info()\n",
    "    # Output:\n",
    "    # Address: 456 Oak Ave., Price: 750000\n",
    "    # Number of rooms: 8\n"
   ]
  },
  {
   "cell_type": "code",
   "execution_count": null,
   "id": "299cb11a-0763-4f27-be81-c51ba65554ed",
   "metadata": {},
   "outputs": [],
   "source": []
  }
 ],
 "metadata": {
  "kernelspec": {
   "display_name": "Python 3 (ipykernel)",
   "language": "python",
   "name": "python3"
  },
  "language_info": {
   "codemirror_mode": {
    "name": "ipython",
    "version": 3
   },
   "file_extension": ".py",
   "mimetype": "text/x-python",
   "name": "python",
   "nbconvert_exporter": "python",
   "pygments_lexer": "ipython3",
   "version": "3.12.7"
  }
 },
 "nbformat": 4,
 "nbformat_minor": 5
}
